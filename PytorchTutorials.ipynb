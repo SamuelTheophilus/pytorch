{
 "cells": [
  {
   "cell_type": "code",
   "execution_count": 20,
   "id": "993bd411-2221-461c-a667-f84be39caf9d",
   "metadata": {
    "ExecuteTime": {
     "end_time": "2024-01-05T22:39:27.993022Z",
     "start_time": "2024-01-05T22:39:27.985063Z"
    }
   },
   "outputs": [
    {
     "data": {
      "text/plain": "<torch._C.Generator at 0x10bdbaef0>"
     },
     "execution_count": 20,
     "metadata": {},
     "output_type": "execute_result"
    }
   ],
   "source": [
    "import torch\n",
    "torch.manual_seed(0)"
   ]
  },
  {
   "cell_type": "code",
   "execution_count": 21,
   "id": "3cb2dcf6-6585-437c-acf5-197c3d77057a",
   "metadata": {
    "ExecuteTime": {
     "end_time": "2024-01-05T22:39:28.000099Z",
     "start_time": "2024-01-05T22:39:27.993780Z"
    }
   },
   "outputs": [],
   "source": [
    "example = torch.rand(5,3)\n"
   ]
  },
  {
   "cell_type": "code",
   "outputs": [
    {
     "name": "stdout",
     "output_type": "stream",
     "text": [
      "Device: mps\n"
     ]
    }
   ],
   "source": [
    "available_device = \"mps\" if torch.backends.mps.is_available() else \"cpu\"\n",
    "print(f\"Device: {available_device}\")"
   ],
   "metadata": {
    "collapsed": false,
    "ExecuteTime": {
     "end_time": "2024-01-05T22:39:28.012912Z",
     "start_time": "2024-01-05T22:39:27.997587Z"
    }
   },
   "id": "7ea725a33f4eb7f3",
   "execution_count": 22
  },
  {
   "cell_type": "code",
   "outputs": [],
   "source": [
    "device = torch.device(available_device)"
   ],
   "metadata": {
    "collapsed": false,
    "ExecuteTime": {
     "end_time": "2024-01-05T22:39:28.013426Z",
     "start_time": "2024-01-05T22:39:28.001303Z"
    }
   },
   "id": "5243cedc6ae696e5",
   "execution_count": 23
  },
  {
   "cell_type": "code",
   "outputs": [
    {
     "name": "stdout",
     "output_type": "stream",
     "text": [
      "tensor([[2.6035, 2.8110, 1.9549],\n",
      "        [2.8797, 3.0482, 1.9555],\n",
      "        [1.2771, 4.8663, 1.4345],\n",
      "        [2.1604, 1.9746, 3.0739],\n",
      "        [4.2628, 1.0825, 1.7749]], grad_fn=<AddBackward0>)\n"
     ]
    }
   ],
   "source": [
    "x = torch.randn(5,3, requires_grad=True)\n",
    "y = x + 2\n",
    "print(y)"
   ],
   "metadata": {
    "collapsed": false,
    "ExecuteTime": {
     "end_time": "2024-01-05T22:39:28.013804Z",
     "start_time": "2024-01-05T22:39:28.004124Z"
    }
   },
   "id": "4ace5b70b71fd9f4",
   "execution_count": 24
  },
  {
   "cell_type": "code",
   "outputs": [
    {
     "name": "stdout",
     "output_type": "stream",
     "text": [
      "tensor([[0.7932, 0.2783, 0.4820],\n",
      "        [0.8198, 0.9971, 0.6984],\n",
      "        [0.5675, 0.8352, 0.2056]], device='mps:0', grad_fn=<ToCopyBackward0>)\n",
      "tensor([[0.7932, 0.2783, 0.4820],\n",
      "        [0.8198, 0.9971, 0.6984]], device='mps:0', grad_fn=<SliceBackward0>)\n"
     ]
    }
   ],
   "source": [
    "# Slicing example\n",
    "example = torch.rand(3,3, requires_grad=True).to(device)\n",
    "print(example)\n",
    "print(example[:2, :])"
   ],
   "metadata": {
    "collapsed": false,
    "ExecuteTime": {
     "end_time": "2024-01-05T22:39:28.045160Z",
     "start_time": "2024-01-05T22:39:28.008333Z"
    }
   },
   "id": "ed0e24fe7af7f3e2",
   "execution_count": 25
  },
  {
   "cell_type": "code",
   "outputs": [
    {
     "data": {
      "text/plain": "0"
     },
     "execution_count": 26,
     "metadata": {},
     "output_type": "execute_result"
    }
   ],
   "source": [
    "example.get_device()"
   ],
   "metadata": {
    "collapsed": false,
    "ExecuteTime": {
     "end_time": "2024-01-05T22:39:28.045575Z",
     "start_time": "2024-01-05T22:39:28.025149Z"
    }
   },
   "id": "683522350e6a4b43",
   "execution_count": 26
  },
  {
   "cell_type": "code",
   "outputs": [
    {
     "name": "stdout",
     "output_type": "stream",
     "text": [
      "tensor([3., 3., 3., 3.])\n",
      "tensor([3., 3., 3., 3.])\n",
      "tensor([3., 3., 3., 3.])\n"
     ]
    }
   ],
   "source": [
    "# Preventing gradient history\n",
    "weights = torch.ones(4, requires_grad=True)\n",
    "\n",
    "for epoch in range(3):\n",
    "    model_output = (weights * 3).sum()\n",
    "    model_output.backward()\n",
    "    print(weights.grad)\n",
    "    weights.grad.zero_()\n",
    "    \n",
    "    \n",
    "    \n",
    "    "
   ],
   "metadata": {
    "collapsed": false,
    "ExecuteTime": {
     "end_time": "2024-01-05T22:39:28.046027Z",
     "start_time": "2024-01-05T22:39:28.028705Z"
    }
   },
   "id": "a87fcbd0ac5fd86e",
   "execution_count": 27
  },
  {
   "cell_type": "code",
   "outputs": [
    {
     "name": "stdout",
     "output_type": "stream",
     "text": [
      "tensor(1., grad_fn=<PowBackward0>)\n"
     ]
    }
   ],
   "source": [
    "# Backprop example \n",
    "x = torch.tensor(1)\n",
    "y = torch.tensor(2)\n",
    "\n",
    "w = torch.tensor(1.0, requires_grad=True)\n",
    "loss = torch.pow((x * w - y),2)\n",
    "\n",
    "print(loss)"
   ],
   "metadata": {
    "collapsed": false,
    "ExecuteTime": {
     "end_time": "2024-01-05T22:39:47.548270Z",
     "start_time": "2024-01-05T22:39:47.542653Z"
    }
   },
   "id": "62e8b7b072fb31b7",
   "execution_count": 30
  },
  {
   "cell_type": "code",
   "outputs": [
    {
     "name": "stdout",
     "output_type": "stream",
     "text": [
      "tensor(-2.)\n"
     ]
    }
   ],
   "source": [
    "loss.backward()\n",
    "print(w.grad)"
   ],
   "metadata": {
    "collapsed": false,
    "ExecuteTime": {
     "end_time": "2024-01-05T22:39:47.552068Z",
     "start_time": "2024-01-05T22:39:47.547105Z"
    }
   },
   "id": "d17d324d24b0f45d",
   "execution_count": 31
  },
  {
   "cell_type": "code",
   "outputs": [],
   "source": [
    "import numpy as np"
   ],
   "metadata": {
    "collapsed": false,
    "ExecuteTime": {
     "end_time": "2024-01-05T22:47:33.336091Z",
     "start_time": "2024-01-05T22:47:33.332272Z"
    }
   },
   "id": "261299d2b27eda00",
   "execution_count": 32
  },
  {
   "cell_type": "code",
   "outputs": [],
   "source": [
    "# Simple manual ml algorithm\n",
    "# f(x) = 3 * x -> this is the target\n",
    "\n",
    "x = np.array([1,2,3,4], dtype=np.float32)\n",
    "y = np.array([3,6,9,12], dtype=np.float32)\n",
    "\n",
    "weights = 0.0\n",
    "\n",
    "# Forward pass\n",
    "def forward(features):\n",
    "    return weights * features\n",
    "\n",
    "def loss(prediction, y_true):\n",
    "    return ((prediction - y_true)**2).mean()\n",
    "\n",
    "# gradient = 1/N * 2*x * (prediction-y_true)\n",
    "def gradient(prediction, features, y_true):\n",
    "    return np.dot(2*features, prediction -y_true).mean()"
   ],
   "metadata": {
    "collapsed": false,
    "ExecuteTime": {
     "end_time": "2024-01-05T23:04:18.309581Z",
     "start_time": "2024-01-05T23:04:18.305877Z"
    }
   },
   "id": "fb51218438333c5c",
   "execution_count": 45
  },
  {
   "cell_type": "code",
   "outputs": [
    {
     "name": "stdout",
     "output_type": "stream",
     "text": [
      "Prediction before training: 0.000\n",
      "Prediction after training: 15.000\n"
     ]
    }
   ],
   "source": [
    "# Training loop \n",
    "learning_rate = 0.01\n",
    "print(f\"Prediction before training: {forward(5):.3f}\")\n",
    "\n",
    "for epoch in range(100):\n",
    "    y_pred = forward(x)\n",
    "    mse = loss(y_pred, y)\n",
    "    dw = gradient(y_pred,x,y)\n",
    "    weights -= learning_rate * dw\n",
    "\n",
    "print(f\"Prediction after training: {forward(5):.3f}\")"
   ],
   "metadata": {
    "collapsed": false,
    "ExecuteTime": {
     "end_time": "2024-01-05T23:04:20.213567Z",
     "start_time": "2024-01-05T23:04:20.210782Z"
    }
   },
   "id": "6fa876188f0e42c1",
   "execution_count": 46
  },
  {
   "cell_type": "code",
   "outputs": [
    {
     "name": "stdout",
     "output_type": "stream",
     "text": [
      "Prediction after training: 9.999\n"
     ]
    }
   ],
   "source": [
    "# Using pytorch \n",
    "\n",
    "# Forward pass\n",
    "\n",
    "\n",
    "\n",
    "x =  torch.tensor([1,2,3], dtype=torch.float32)\n",
    "y = torch.tensor([2,4,6], dtype=torch.float32)\n",
    "weights = torch.tensor(0.0, dtype=torch.float32 ,requires_grad=True)\n",
    "\n",
    "\n",
    "def forward(features):\n",
    "    return weights * features\n",
    "\n",
    "def loss(prediction, y_true):\n",
    "    return ((prediction - y_true)**2).mean()\n",
    "\n",
    "\n",
    "for epoch in range(100):\n",
    "    y_pred = forward(x)\n",
    "    \n",
    "    l = loss(y_pred, y)\n",
    "    l.backward()\n",
    "    \n",
    "    with torch.no_grad():\n",
    "        weights -= learning_rate * weights.grad\n",
    "    \n",
    "    weights.grad.zero_()\n",
    "\n",
    "print(f\"Prediction after training: {forward(5):.3f}\")"
   ],
   "metadata": {
    "collapsed": false,
    "ExecuteTime": {
     "end_time": "2024-01-05T23:21:08.992314Z",
     "start_time": "2024-01-05T23:21:08.982439Z"
    }
   },
   "id": "2ebba54a7c09ceeb",
   "execution_count": 55
  },
  {
   "cell_type": "code",
   "outputs": [],
   "source": [],
   "metadata": {
    "collapsed": false
   },
   "id": "7703e508d50b75f0"
  }
 ],
 "metadata": {
  "kernelspec": {
   "display_name": "Python 3 (ipykernel)",
   "language": "python",
   "name": "python3"
  },
  "language_info": {
   "codemirror_mode": {
    "name": "ipython",
    "version": 3
   },
   "file_extension": ".py",
   "mimetype": "text/x-python",
   "name": "python",
   "nbconvert_exporter": "python",
   "pygments_lexer": "ipython3",
   "version": "3.11.5"
  }
 },
 "nbformat": 4,
 "nbformat_minor": 5
}
