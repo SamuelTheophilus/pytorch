{
 "cells": [
  {
   "cell_type": "code",
   "execution_count": 1,
   "id": "993bd411-2221-461c-a667-f84be39caf9d",
   "metadata": {
    "ExecuteTime": {
     "end_time": "2024-01-05T22:15:10.971398Z",
     "start_time": "2024-01-05T22:15:09.456606Z"
    }
   },
   "outputs": [
    {
     "data": {
      "text/plain": "<torch._C.Generator at 0x10bdbaef0>"
     },
     "execution_count": 1,
     "metadata": {},
     "output_type": "execute_result"
    }
   ],
   "source": [
    "import torch\n",
    "torch.manual_seed(0)"
   ]
  },
  {
   "cell_type": "code",
   "execution_count": 2,
   "id": "3cb2dcf6-6585-437c-acf5-197c3d77057a",
   "metadata": {
    "ExecuteTime": {
     "end_time": "2024-01-05T22:15:10.986459Z",
     "start_time": "2024-01-05T22:15:10.971333Z"
    }
   },
   "outputs": [],
   "source": [
    "example = torch.rand(5,3)\n"
   ]
  },
  {
   "cell_type": "code",
   "outputs": [
    {
     "name": "stdout",
     "output_type": "stream",
     "text": [
      "Device: mps\n"
     ]
    }
   ],
   "source": [
    "available_device = \"mps\" if torch.backends.mps.is_available() else \"cpu\"\n",
    "print(f\"Device: {available_device}\")"
   ],
   "metadata": {
    "collapsed": false,
    "ExecuteTime": {
     "end_time": "2024-01-05T22:15:11.012927Z",
     "start_time": "2024-01-05T22:15:11.001709Z"
    }
   },
   "id": "7ea725a33f4eb7f3",
   "execution_count": 3
  },
  {
   "cell_type": "code",
   "outputs": [],
   "source": [
    "device = torch.device(available_device)"
   ],
   "metadata": {
    "collapsed": false,
    "ExecuteTime": {
     "end_time": "2024-01-05T22:15:11.013168Z",
     "start_time": "2024-01-05T22:15:11.004957Z"
    }
   },
   "id": "5243cedc6ae696e5",
   "execution_count": 4
  },
  {
   "cell_type": "code",
   "outputs": [
    {
     "name": "stdout",
     "output_type": "stream",
     "text": [
      "tensor([[2.6035, 2.8110, 1.9549],\n",
      "        [2.8797, 3.0482, 1.9555],\n",
      "        [1.2771, 4.8663, 1.4345],\n",
      "        [2.1604, 1.9746, 3.0739],\n",
      "        [4.2628, 1.0825, 1.7749]], grad_fn=<AddBackward0>)\n"
     ]
    }
   ],
   "source": [
    "x = torch.randn(5,3, requires_grad=True)\n",
    "y = x + 2\n",
    "print(y)"
   ],
   "metadata": {
    "collapsed": false,
    "ExecuteTime": {
     "end_time": "2024-01-05T22:15:41.383702Z",
     "start_time": "2024-01-05T22:15:41.370317Z"
    }
   },
   "id": "4ace5b70b71fd9f4",
   "execution_count": 5
  },
  {
   "cell_type": "code",
   "outputs": [
    {
     "name": "stdout",
     "output_type": "stream",
     "text": [
      "tensor([[0.0012, 0.5936, 0.4158],\n",
      "        [0.4177, 0.2711, 0.6923],\n",
      "        [0.2038, 0.6833, 0.7529]], device='mps:0', grad_fn=<ToCopyBackward0>)\n",
      "tensor([[0.0012, 0.5936, 0.4158],\n",
      "        [0.4177, 0.2711, 0.6923]], device='mps:0', grad_fn=<SliceBackward0>)\n"
     ]
    }
   ],
   "source": [
    "# Slicing example\n",
    "example = torch.rand(3,3, requires_grad=True).to(device)\n",
    "print(example)\n",
    "print(example[:2, :])"
   ],
   "metadata": {
    "collapsed": false,
    "ExecuteTime": {
     "end_time": "2024-01-05T22:22:08.624516Z",
     "start_time": "2024-01-05T22:22:08.607748Z"
    }
   },
   "id": "ed0e24fe7af7f3e2",
   "execution_count": 11
  },
  {
   "cell_type": "code",
   "outputs": [
    {
     "data": {
      "text/plain": "0"
     },
     "execution_count": 12,
     "metadata": {},
     "output_type": "execute_result"
    }
   ],
   "source": [
    "example.get_device()"
   ],
   "metadata": {
    "collapsed": false,
    "ExecuteTime": {
     "end_time": "2024-01-05T22:22:12.022304Z",
     "start_time": "2024-01-05T22:22:12.018672Z"
    }
   },
   "id": "683522350e6a4b43",
   "execution_count": 12
  },
  {
   "cell_type": "code",
   "outputs": [
    {
     "name": "stdout",
     "output_type": "stream",
     "text": [
      "tensor([3., 3., 3., 3.])\n",
      "tensor([3., 3., 3., 3.])\n",
      "tensor([3., 3., 3., 3.])\n"
     ]
    }
   ],
   "source": [
    "# Preventing gradient history\n",
    "weights = torch.ones(4, requires_grad=True)\n",
    "\n",
    "for epoch in range(3):\n",
    "    model_output = (weights * 3).sum()\n",
    "    model_output.backward()\n",
    "    print(weights.grad)\n",
    "    weights.grad.zero_()\n",
    "    \n",
    "    \n",
    "    \n",
    "    "
   ],
   "metadata": {
    "collapsed": false,
    "ExecuteTime": {
     "end_time": "2024-01-05T22:27:41.584622Z",
     "start_time": "2024-01-05T22:27:41.573209Z"
    }
   },
   "id": "a87fcbd0ac5fd86e",
   "execution_count": 13
  },
  {
   "cell_type": "code",
   "outputs": [],
   "source": [],
   "metadata": {
    "collapsed": false
   },
   "id": "62e8b7b072fb31b7"
  }
 ],
 "metadata": {
  "kernelspec": {
   "display_name": "Python 3 (ipykernel)",
   "language": "python",
   "name": "python3"
  },
  "language_info": {
   "codemirror_mode": {
    "name": "ipython",
    "version": 3
   },
   "file_extension": ".py",
   "mimetype": "text/x-python",
   "name": "python",
   "nbconvert_exporter": "python",
   "pygments_lexer": "ipython3",
   "version": "3.11.5"
  }
 },
 "nbformat": 4,
 "nbformat_minor": 5
}
