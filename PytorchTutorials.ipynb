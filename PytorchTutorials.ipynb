{
 "cells": [
  {
   "cell_type": "code",
   "execution_count": 8,
   "id": "993bd411-2221-461c-a667-f84be39caf9d",
   "metadata": {},
   "outputs": [],
   "source": [
    "import torch\n",
    "from torch import nn\n",
    "from torch.utils.data import DataLoader\n",
    "from torchvision import datasets\n",
    "from torchvision.transforms import ToTensor"
   ]
  },
  {
   "cell_type": "code",
   "execution_count": 9,
   "id": "f20c435b-2b5e-44de-84dd-0ffb70095ed3",
   "metadata": {},
   "outputs": [
    {
     "name": "stdout",
     "output_type": "stream",
     "text": [
      "Downloading http://fashion-mnist.s3-website.eu-central-1.amazonaws.com/train-images-idx3-ubyte.gz\n",
      "Downloading http://fashion-mnist.s3-website.eu-central-1.amazonaws.com/train-images-idx3-ubyte.gz to data/FashionMNIST/raw/train-images-idx3-ubyte.gz\n"
     ]
    },
    {
     "name": "stderr",
     "output_type": "stream",
     "text": [
      "100%|█████████████████████████████████████████████████████████████████████████████████████████████████████| 26421880/26421880 [02:57<00:00, 148546.27it/s]\n"
     ]
    },
    {
     "name": "stdout",
     "output_type": "stream",
     "text": [
      "Extracting data/FashionMNIST/raw/train-images-idx3-ubyte.gz to data/FashionMNIST/raw\n",
      "\n",
      "Downloading http://fashion-mnist.s3-website.eu-central-1.amazonaws.com/train-labels-idx1-ubyte.gz\n",
      "Downloading http://fashion-mnist.s3-website.eu-central-1.amazonaws.com/train-labels-idx1-ubyte.gz to data/FashionMNIST/raw/train-labels-idx1-ubyte.gz\n"
     ]
    },
    {
     "name": "stderr",
     "output_type": "stream",
     "text": [
      "100%|████████████████████████████████████████████████████████████████████████████████████████████████████████████| 29515/29515 [00:00<00:00, 92140.21it/s]\n"
     ]
    },
    {
     "name": "stdout",
     "output_type": "stream",
     "text": [
      "Extracting data/FashionMNIST/raw/train-labels-idx1-ubyte.gz to data/FashionMNIST/raw\n",
      "\n",
      "Downloading http://fashion-mnist.s3-website.eu-central-1.amazonaws.com/t10k-images-idx3-ubyte.gz\n",
      "Downloading http://fashion-mnist.s3-website.eu-central-1.amazonaws.com/t10k-images-idx3-ubyte.gz to data/FashionMNIST/raw/t10k-images-idx3-ubyte.gz\n"
     ]
    },
    {
     "name": "stderr",
     "output_type": "stream",
     "text": [
      "100%|███████████████████████████████████████████████████████████████████████████████████████████████████████| 4422102/4422102 [00:26<00:00, 169586.40it/s]\n"
     ]
    },
    {
     "name": "stdout",
     "output_type": "stream",
     "text": [
      "Extracting data/FashionMNIST/raw/t10k-images-idx3-ubyte.gz to data/FashionMNIST/raw\n",
      "\n",
      "Downloading http://fashion-mnist.s3-website.eu-central-1.amazonaws.com/t10k-labels-idx1-ubyte.gz\n",
      "Downloading http://fashion-mnist.s3-website.eu-central-1.amazonaws.com/t10k-labels-idx1-ubyte.gz to data/FashionMNIST/raw/t10k-labels-idx1-ubyte.gz\n"
     ]
    },
    {
     "name": "stderr",
     "output_type": "stream",
     "text": [
      "100%|████████████████████████████████████████████████████████████████████████████████████████████████████████████| 5148/5148 [00:00<00:00, 5516677.82it/s]"
     ]
    },
    {
     "name": "stdout",
     "output_type": "stream",
     "text": [
      "Extracting data/FashionMNIST/raw/t10k-labels-idx1-ubyte.gz to data/FashionMNIST/raw\n",
      "\n"
     ]
    },
    {
     "name": "stderr",
     "output_type": "stream",
     "text": [
      "\n"
     ]
    }
   ],
   "source": [
    "# Download training data from open datasets.\n",
    "training_data = datasets.FashionMNIST(\n",
    "    root=\"data\",\n",
    "    train=True,\n",
    "    download=True,\n",
    "    transform=ToTensor(),\n",
    ")\n",
    "\n",
    "# Download test data from open datasets.\n",
    "test_data = datasets.FashionMNIST(\n",
    "    root=\"data\",\n",
    "    train=False,\n",
    "    download=True,\n",
    "    transform=ToTensor(),\n",
    ")"
   ]
  },
  {
   "cell_type": "code",
   "execution_count": 11,
   "id": "04f12cf0-e5e4-4f34-81fc-31e22f03987d",
   "metadata": {},
   "outputs": [
    {
     "name": "stdout",
     "output_type": "stream",
     "text": [
      "Shape of X [N, C, H, W]: torch.Size([32, 1, 28, 28])\n",
      "Shape of y: torch.Size([32]) torch.int64\n"
     ]
    }
   ],
   "source": [
    "batch_size = 32\n",
    "\n",
    "# Create data loaders.\n",
    "train_dataloader = DataLoader(training_data, batch_size=batch_size)\n",
    "test_dataloader = DataLoader(test_data, batch_size=batch_size)\n",
    "\n",
    "for X, y in test_dataloader:\n",
    "    print(f\"Shape of X [N, C, H, W]: {X.shape}\")\n",
    "    print(f\"Shape of y: {y.shape} {y.dtype}\")\n",
    "    break"
   ]
  },
  {
   "cell_type": "code",
   "execution_count": 12,
   "id": "7023f7f2-0176-4c62-b995-ea1cbd524e6f",
   "metadata": {},
   "outputs": [
    {
     "name": "stdout",
     "output_type": "stream",
     "text": [
      "Using mps device\n",
      "NeuralNetwork(\n",
      "  (flatten): Flatten(start_dim=1, end_dim=-1)\n",
      "  (linear_relu_stack): Sequential(\n",
      "    (0): Linear(in_features=784, out_features=512, bias=True)\n",
      "    (1): ReLU()\n",
      "    (2): Linear(in_features=512, out_features=512, bias=True)\n",
      "    (3): ReLU()\n",
      "    (4): Linear(in_features=512, out_features=10, bias=True)\n",
      "  )\n",
      ")\n"
     ]
    }
   ],
   "source": [
    "# Get cpu, gpu or mps device for training.\n",
    "device = (\n",
    "    \"cuda\"\n",
    "    if torch.cuda.is_available()\n",
    "    else \"mps\"\n",
    "    if torch.backends.mps.is_available()\n",
    "    else \"cpu\"\n",
    ")\n",
    "print(f\"Using {device} device\")\n",
    "\n",
    "# Define model\n",
    "class NeuralNetwork(nn.Module):\n",
    "    def __init__(self):\n",
    "        super().__init__()\n",
    "        self.flatten = nn.Flatten()\n",
    "        self.linear_relu_stack = nn.Sequential(\n",
    "            nn.Linear(28*28, 512),\n",
    "            nn.ReLU(),\n",
    "            nn.Linear(512, 512),\n",
    "            nn.ReLU(),\n",
    "            nn.Linear(512, 10)\n",
    "        )\n",
    "\n",
    "    def forward(self, x):\n",
    "        x = self.flatten(x)\n",
    "        logits = self.linear_relu_stack(x)\n",
    "        return logits\n",
    "\n",
    "model = NeuralNetwork().to(device)\n",
    "print(model)"
   ]
  },
  {
   "cell_type": "code",
   "execution_count": 13,
   "id": "97a43bf3-a4da-4889-9c22-8387f57bebe4",
   "metadata": {},
   "outputs": [],
   "source": [
    "# Function to train the model\n",
    "loss_fn = nn.CrossEntropyLoss()\n",
    "optimizer = torch.optim.SGD(model.parameters(), lr=1e-3)\n",
    "\n",
    "def train(dataloader, model, loss_fn, optimizer):\n",
    "    size = len(dataloader.dataset)\n",
    "    model.train()\n",
    "    for batch, (X, y) in enumerate(dataloader):\n",
    "        X, y = X.to(device), y.to(device)\n",
    "\n",
    "        # Compute prediction error\n",
    "        pred = model(X)\n",
    "        loss = loss_fn(pred, y)\n",
    "\n",
    "        # Backpropagation\n",
    "        loss.backward()\n",
    "        optimizer.step()\n",
    "        optimizer.zero_grad()\n",
    "\n",
    "        if batch % 100 == 0:\n",
    "            loss, current = loss.item(), (batch + 1) * len(X)\n",
    "            print(f\"loss: {loss:>7f}  [{current:>5d}/{size:>5d}]\")"
   ]
  },
  {
   "cell_type": "code",
   "execution_count": 14,
   "id": "3e186fb5-4444-47d3-8e1f-5a18b57d1ffd",
   "metadata": {},
   "outputs": [],
   "source": [
    "def test(dataloader, model, loss_fn):\n",
    "    size = len(dataloader.dataset)\n",
    "    num_batches = len(dataloader)\n",
    "    model.eval()\n",
    "    test_loss, correct = 0, 0\n",
    "    with torch.no_grad():\n",
    "        for X, y in dataloader:\n",
    "            X, y = X.to(device), y.to(device)\n",
    "            pred = model(X)\n",
    "            test_loss += loss_fn(pred, y).item()\n",
    "            correct += (pred.argmax(1) == y).type(torch.float).sum().item()\n",
    "    test_loss /= num_batches\n",
    "    correct /= size\n",
    "    print(f\"Test Error: \\n Accuracy: {(100*correct):>0.1f}%, Avg loss: {test_loss:>8f} \\n\")"
   ]
  },
  {
   "cell_type": "code",
   "execution_count": 15,
   "id": "84b1078c-622e-4bf1-9160-da8921a5e47c",
   "metadata": {},
   "outputs": [
    {
     "name": "stdout",
     "output_type": "stream",
     "text": [
      "Epoch 1\n",
      "-------------------------------\n",
      "loss: 2.307774  [   32/60000]\n",
      "loss: 2.279171  [ 3232/60000]\n",
      "loss: 2.272148  [ 6432/60000]\n",
      "loss: 2.252131  [ 9632/60000]\n",
      "loss: 2.230119  [12832/60000]\n",
      "loss: 2.218791  [16032/60000]\n",
      "loss: 2.202348  [19232/60000]\n",
      "loss: 2.194194  [22432/60000]\n",
      "loss: 2.190631  [25632/60000]\n",
      "loss: 2.128481  [28832/60000]\n",
      "loss: 2.090271  [32032/60000]\n",
      "loss: 2.063922  [35232/60000]\n",
      "loss: 2.139041  [38432/60000]\n",
      "loss: 2.054060  [41632/60000]\n",
      "loss: 2.007107  [44832/60000]\n",
      "loss: 1.977964  [48032/60000]\n",
      "loss: 2.034014  [51232/60000]\n",
      "loss: 1.956807  [54432/60000]\n",
      "loss: 1.854060  [57632/60000]\n",
      "Test Error: \n",
      " Accuracy: 60.0%, Avg loss: 1.871948 \n",
      "\n",
      "Epoch 2\n",
      "-------------------------------\n",
      "loss: 1.862156  [   32/60000]\n",
      "loss: 1.867958  [ 3232/60000]\n",
      "loss: 1.814931  [ 6432/60000]\n",
      "loss: 1.750605  [ 9632/60000]\n",
      "loss: 1.697751  [12832/60000]\n",
      "loss: 1.732994  [16032/60000]\n",
      "loss: 1.570668  [19232/60000]\n",
      "loss: 1.579455  [22432/60000]\n",
      "loss: 1.578592  [25632/60000]\n",
      "loss: 1.524449  [28832/60000]\n",
      "loss: 1.405120  [32032/60000]\n",
      "loss: 1.339244  [35232/60000]\n",
      "loss: 1.536858  [38432/60000]\n",
      "loss: 1.406476  [41632/60000]\n",
      "loss: 1.319605  [44832/60000]\n",
      "loss: 1.264772  [48032/60000]\n",
      "loss: 1.380403  [51232/60000]\n",
      "loss: 1.381744  [54432/60000]\n",
      "loss: 1.196559  [57632/60000]\n",
      "Test Error: \n",
      " Accuracy: 63.5%, Avg loss: 1.252704 \n",
      "\n",
      "Epoch 3\n",
      "-------------------------------\n",
      "loss: 1.245847  [   32/60000]\n",
      "loss: 1.242976  [ 3232/60000]\n",
      "loss: 1.248145  [ 6432/60000]\n",
      "loss: 1.279964  [ 9632/60000]\n",
      "loss: 1.138563  [12832/60000]\n",
      "loss: 1.282992  [16032/60000]\n",
      "loss: 1.024657  [19232/60000]\n",
      "loss: 1.055728  [22432/60000]\n",
      "loss: 1.102618  [25632/60000]\n",
      "loss: 1.177901  [28832/60000]\n",
      "loss: 1.007699  [32032/60000]\n",
      "loss: 0.951808  [35232/60000]\n",
      "loss: 1.241331  [38432/60000]\n",
      "loss: 1.075413  [41632/60000]\n",
      "loss: 1.008853  [44832/60000]\n",
      "loss: 0.907404  [48032/60000]\n",
      "loss: 1.040081  [51232/60000]\n",
      "loss: 1.148113  [54432/60000]\n",
      "loss: 0.911259  [57632/60000]\n",
      "Test Error: \n",
      " Accuracy: 65.6%, Avg loss: 0.984634 \n",
      "\n",
      "Epoch 4\n",
      "-------------------------------\n",
      "loss: 0.942511  [   32/60000]\n",
      "loss: 0.978774  [ 3232/60000]\n",
      "loss: 0.989947  [ 6432/60000]\n",
      "loss: 1.107869  [ 9632/60000]\n",
      "loss: 0.887115  [12832/60000]\n",
      "loss: 1.082265  [16032/60000]\n",
      "loss: 0.789104  [19232/60000]\n",
      "loss: 0.808679  [22432/60000]\n",
      "loss: 0.890823  [25632/60000]\n",
      "loss: 1.065851  [28832/60000]\n",
      "loss: 0.827482  [32032/60000]\n",
      "loss: 0.772316  [35232/60000]\n",
      "loss: 1.130437  [38432/60000]\n",
      "loss: 0.952237  [41632/60000]\n",
      "loss: 0.882906  [44832/60000]\n",
      "loss: 0.748568  [48032/60000]\n",
      "loss: 0.883879  [51232/60000]\n",
      "loss: 1.038426  [54432/60000]\n",
      "loss: 0.788655  [57632/60000]\n",
      "Test Error: \n",
      " Accuracy: 68.1%, Avg loss: 0.859521 \n",
      "\n",
      "Epoch 5\n",
      "-------------------------------\n",
      "loss: 0.788789  [   32/60000]\n",
      "loss: 0.869914  [ 3232/60000]\n",
      "loss: 0.859690  [ 6432/60000]\n",
      "loss: 0.999864  [ 9632/60000]\n",
      "loss: 0.762903  [12832/60000]\n",
      "loss: 0.982638  [16032/60000]\n",
      "loss: 0.669020  [19232/60000]\n",
      "loss: 0.672520  [22432/60000]\n",
      "loss: 0.782224  [25632/60000]\n",
      "loss: 1.012511  [28832/60000]\n",
      "loss: 0.738922  [32032/60000]\n",
      "loss: 0.679784  [35232/60000]\n",
      "loss: 1.065441  [38432/60000]\n",
      "loss: 0.902515  [41632/60000]\n",
      "loss: 0.828016  [44832/60000]\n",
      "loss: 0.667562  [48032/60000]\n",
      "loss: 0.798048  [51232/60000]\n",
      "loss: 0.970763  [54432/60000]\n",
      "loss: 0.728137  [57632/60000]\n",
      "Test Error: \n",
      " Accuracy: 70.9%, Avg loss: 0.788569 \n",
      "\n",
      "Done!\n"
     ]
    }
   ],
   "source": [
    "# Training the model\n",
    "epochs = 5\n",
    "for t in range(epochs):\n",
    "    print(f\"Epoch {t+1}\\n-------------------------------\")\n",
    "    train(train_dataloader, model, loss_fn, optimizer)\n",
    "    test(test_dataloader, model, loss_fn)\n",
    "print(\"Done!\")"
   ]
  },
  {
   "cell_type": "code",
   "execution_count": null,
   "id": "0b9149b5-55b1-4723-8eef-fdae5c8499d6",
   "metadata": {},
   "outputs": [],
   "source": []
  }
 ],
 "metadata": {
  "kernelspec": {
   "display_name": "Python 3 (ipykernel)",
   "language": "python",
   "name": "python3"
  },
  "language_info": {
   "codemirror_mode": {
    "name": "ipython",
    "version": 3
   },
   "file_extension": ".py",
   "mimetype": "text/x-python",
   "name": "python",
   "nbconvert_exporter": "python",
   "pygments_lexer": "ipython3",
   "version": "3.11.5"
  }
 },
 "nbformat": 4,
 "nbformat_minor": 5
}
