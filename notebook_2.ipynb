{
 "cells": [
  {
   "cell_type": "markdown",
   "source": [
    "## Linear Regression with Pytorch"
   ],
   "metadata": {
    "collapsed": false
   },
   "id": "40d4f762290d2ad"
  },
  {
   "cell_type": "code",
   "outputs": [],
   "source": [
    "import torch\n",
    "from torch import nn\n",
    "\n",
    "\n",
    "class LinearRegression(nn.Module):\n",
    "    def __init__(self):\n",
    "        super().__init__()\n",
    "        self.weights = nn.Parameter(torch.randn(1,requires_grad=True, dtype = torch.float))\n",
    "        self.bias = nn.Parameter(torch.randn(1,requires_grad=True, dtype = torch.float))\n",
    "        \n",
    "    # Forward method to define the computation method in the model\n",
    "    def forward(self, feature: torch.Tensor) -> torch.Tensor: # feature: is the input data\n",
    "        return self.weights * feature + self.bias\n",
    "        \n",
    "        "
   ],
   "metadata": {
    "collapsed": false,
    "ExecuteTime": {
     "end_time": "2024-01-02T20:06:19.374502Z",
     "start_time": "2024-01-02T20:06:18.462433Z"
    }
   },
   "id": "112a62769662e85e",
   "execution_count": 1
  },
  {
   "cell_type": "code",
   "outputs": [
    {
     "data": {
      "text/plain": "(Parameter containing:\n tensor([-1.0707], requires_grad=True),\n Parameter containing:\n tensor([1.1926], requires_grad=True))"
     },
     "execution_count": 4,
     "metadata": {},
     "output_type": "execute_result"
    }
   ],
   "source": [
    "# Instantiate a model\n",
    "model_fn = LinearRegression()\n",
    "model_fn.weights , model_fn.bias"
   ],
   "metadata": {
    "collapsed": false,
    "ExecuteTime": {
     "end_time": "2024-01-02T20:07:10.382052Z",
     "start_time": "2024-01-02T20:07:10.377036Z"
    }
   },
   "id": "9c7302e009cded8",
   "execution_count": 4
  },
  {
   "cell_type": "code",
   "outputs": [
    {
     "name": "stdout",
     "output_type": "stream",
     "text": [
      "Features: tensor([[0.0000],\n",
      "        [0.0200],\n",
      "        [0.0400],\n",
      "        [0.0600],\n",
      "        [0.0800],\n",
      "        [0.1000],\n",
      "        [0.1200],\n",
      "        [0.1400],\n",
      "        [0.1600],\n",
      "        [0.1800],\n",
      "        [0.2000],\n",
      "        [0.2200],\n",
      "        [0.2400],\n",
      "        [0.2600],\n",
      "        [0.2800],\n",
      "        [0.3000],\n",
      "        [0.3200],\n",
      "        [0.3400],\n",
      "        [0.3600],\n",
      "        [0.3800],\n",
      "        [0.4000],\n",
      "        [0.4200],\n",
      "        [0.4400],\n",
      "        [0.4600],\n",
      "        [0.4800],\n",
      "        [0.5000],\n",
      "        [0.5200],\n",
      "        [0.5400],\n",
      "        [0.5600],\n",
      "        [0.5800],\n",
      "        [0.6000],\n",
      "        [0.6200],\n",
      "        [0.6400],\n",
      "        [0.6600],\n",
      "        [0.6800],\n",
      "        [0.7000],\n",
      "        [0.7200],\n",
      "        [0.7400],\n",
      "        [0.7600],\n",
      "        [0.7800],\n",
      "        [0.8000],\n",
      "        [0.8200],\n",
      "        [0.8400],\n",
      "        [0.8600],\n",
      "        [0.8800],\n",
      "        [0.9000],\n",
      "        [0.9200],\n",
      "        [0.9400],\n",
      "        [0.9600],\n",
      "        [0.9800],\n",
      "        [1.0000]])\n",
      "Targets: tensor([[0.3000],\n",
      "        [0.3140],\n",
      "        [0.3280],\n",
      "        [0.3420],\n",
      "        [0.3560],\n",
      "        [0.3700],\n",
      "        [0.3840],\n",
      "        [0.3980],\n",
      "        [0.4120],\n",
      "        [0.4260],\n",
      "        [0.4400],\n",
      "        [0.4540],\n",
      "        [0.4680],\n",
      "        [0.4820],\n",
      "        [0.4960],\n",
      "        [0.5100],\n",
      "        [0.5240],\n",
      "        [0.5380],\n",
      "        [0.5520],\n",
      "        [0.5660],\n",
      "        [0.5800],\n",
      "        [0.5940],\n",
      "        [0.6080],\n",
      "        [0.6220],\n",
      "        [0.6360],\n",
      "        [0.6500],\n",
      "        [0.6640],\n",
      "        [0.6780],\n",
      "        [0.6920],\n",
      "        [0.7060],\n",
      "        [0.7200],\n",
      "        [0.7340],\n",
      "        [0.7480],\n",
      "        [0.7620],\n",
      "        [0.7760],\n",
      "        [0.7900],\n",
      "        [0.8040],\n",
      "        [0.8180],\n",
      "        [0.8320],\n",
      "        [0.8460],\n",
      "        [0.8600],\n",
      "        [0.8740],\n",
      "        [0.8880],\n",
      "        [0.9020],\n",
      "        [0.9160],\n",
      "        [0.9300],\n",
      "        [0.9440],\n",
      "        [0.9580],\n",
      "        [0.9720],\n",
      "        [0.9860],\n",
      "        [1.0000]])\n"
     ]
    },
    {
     "name": "stderr",
     "output_type": "stream",
     "text": [
      "/var/folders/4d/rdp7yqvj08d6bhjwt9ryxkth0000gn/T/ipykernel_3390/3249183443.py:2: UserWarning: torch.range is deprecated and will be removed in a future release because its behavior is inconsistent with Python's range builtin. Instead, use torch.arange, which produces values in [start, end).\n",
      "  X = torch.range(start=0, end=1, step=0.02).unsqueeze(dim = 1)\n"
     ]
    }
   ],
   "source": [
    "# Dummy dataset \n",
    "X = torch.range(start=0, end=1, step=0.02).unsqueeze(dim = 1)\n",
    "y = 0.7 * X + 0.3  \n",
    "print(f\"Features: {X}\")\n",
    "print(f\"Targets: {y}\")"
   ],
   "metadata": {
    "collapsed": false,
    "ExecuteTime": {
     "end_time": "2024-01-02T20:16:21.467338Z",
     "start_time": "2024-01-02T20:16:21.463404Z"
    }
   },
   "id": "4189a19165e290d4",
   "execution_count": 7
  },
  {
   "cell_type": "code",
   "outputs": [
    {
     "data": {
      "text/plain": "tensor([[1.1926],\n        [1.1712],\n        [1.1498],\n        [1.1284],\n        [1.1069],\n        [1.0855],\n        [1.0641],\n        [1.0427],\n        [1.0213],\n        [0.9999],\n        [0.9785],\n        [0.9570],\n        [0.9356],\n        [0.9142],\n        [0.8928],\n        [0.8714],\n        [0.8500],\n        [0.8286],\n        [0.8072],\n        [0.7857],\n        [0.7643],\n        [0.7429],\n        [0.7215],\n        [0.7001],\n        [0.6787],\n        [0.6573],\n        [0.6358],\n        [0.6144],\n        [0.5930],\n        [0.5716],\n        [0.5502],\n        [0.5288],\n        [0.5074],\n        [0.4859],\n        [0.4645],\n        [0.4431],\n        [0.4217],\n        [0.4003],\n        [0.3789],\n        [0.3575],\n        [0.3360],\n        [0.3146],\n        [0.2932],\n        [0.2718],\n        [0.2504],\n        [0.2290],\n        [0.2076],\n        [0.1862],\n        [0.1647],\n        [0.1433],\n        [0.1219]])"
     },
     "execution_count": 8,
     "metadata": {},
     "output_type": "execute_result"
    }
   ],
   "source": [
    "with torch.inference_mode():\n",
    "    y_preds = model_fn(X)\n",
    "    \n",
    "y_preds"
   ],
   "metadata": {
    "collapsed": false,
    "ExecuteTime": {
     "end_time": "2024-01-02T20:17:06.995602Z",
     "start_time": "2024-01-02T20:17:06.991726Z"
    }
   },
   "id": "85dcf2b225d5a2b8",
   "execution_count": 8
  },
  {
   "cell_type": "code",
   "outputs": [],
   "source": [],
   "metadata": {
    "collapsed": false
   },
   "id": "1c0f5e4d78db6e96"
  }
 ],
 "metadata": {
  "kernelspec": {
   "display_name": "Python 3",
   "language": "python",
   "name": "python3"
  },
  "language_info": {
   "codemirror_mode": {
    "name": "ipython",
    "version": 2
   },
   "file_extension": ".py",
   "mimetype": "text/x-python",
   "name": "python",
   "nbconvert_exporter": "python",
   "pygments_lexer": "ipython2",
   "version": "2.7.6"
  }
 },
 "nbformat": 4,
 "nbformat_minor": 5
}
