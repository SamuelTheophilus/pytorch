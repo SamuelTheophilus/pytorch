{
 "cells": [
  {
   "cell_type": "markdown",
   "source": [
    "## Linear Regression with Pytorch"
   ],
   "metadata": {
    "collapsed": false
   },
   "id": "40d4f762290d2ad"
  },
  {
   "cell_type": "code",
   "outputs": [],
   "source": [
    "import torch\n",
    "from torch import nn\n",
    "\n",
    "\n",
    "class LinearRegression(nn.Module):\n",
    "    def __init__(self):\n",
    "        super().__init__()\n",
    "        self.weights = nn.Parameter(torch.randn(1,requires_grad=True, dtype = torch.float))\n",
    "        self.bias = nn.Parameter(torch.randn(1,requires_grad=True, dtype = torch.float))\n",
    "        \n",
    "    # Forward method to define the computation method in the model\n",
    "    def forward(self, feature: torch.Tensor) -> torch.Tensor:\n",
    "        return self.weights * feature + self.bias\n",
    "        \n",
    "        "
   ],
   "metadata": {
    "collapsed": false
   },
   "id": "112a62769662e85e"
  }
 ],
 "metadata": {
  "kernelspec": {
   "display_name": "Python 3",
   "language": "python",
   "name": "python3"
  },
  "language_info": {
   "codemirror_mode": {
    "name": "ipython",
    "version": 2
   },
   "file_extension": ".py",
   "mimetype": "text/x-python",
   "name": "python",
   "nbconvert_exporter": "python",
   "pygments_lexer": "ipython2",
   "version": "2.7.6"
  }
 },
 "nbformat": 4,
 "nbformat_minor": 5
}
