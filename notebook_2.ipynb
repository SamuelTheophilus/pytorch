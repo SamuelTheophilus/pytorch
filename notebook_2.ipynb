{
 "cells": [
  {
   "cell_type": "markdown",
   "source": [
    "## Linear Regression with Pytorch"
   ],
   "metadata": {
    "collapsed": false
   },
   "id": "40d4f762290d2ad"
  },
  {
   "cell_type": "code",
   "outputs": [],
   "source": [
    "import matplotlib.pyplot as plt"
   ],
   "metadata": {
    "collapsed": false,
    "ExecuteTime": {
     "end_time": "2024-01-03T20:15:01.277189Z",
     "start_time": "2024-01-03T20:15:01.272238Z"
    }
   },
   "id": "4e0634fa64b8d6f6",
   "execution_count": 106
  },
  {
   "cell_type": "code",
   "outputs": [],
   "source": [
    "import torch\n",
    "from torch import nn\n",
    "torch.manual_seed(12)\n",
    "\n",
    "\n",
    "class LinearRegression(nn.Module):\n",
    "    def __init__(self):\n",
    "        super().__init__()\n",
    "        self.weights = nn.Parameter(torch.randn(1,requires_grad=True, dtype = torch.float))\n",
    "        self.bias = nn.Parameter(torch.randn(1,requires_grad=True, dtype = torch.float))\n",
    "        \n",
    "    # Forward method to define the computation method in the model\n",
    "    def forward(self, feature: torch.Tensor) -> torch.Tensor: # feature: is the input data\n",
    "        return self.weights * feature + self.bias\n",
    "        \n",
    "        "
   ],
   "metadata": {
    "collapsed": false,
    "ExecuteTime": {
     "end_time": "2024-01-03T20:15:01.289720Z",
     "start_time": "2024-01-03T20:15:01.279412Z"
    }
   },
   "id": "112a62769662e85e",
   "execution_count": 107
  },
  {
   "cell_type": "code",
   "outputs": [],
   "source": [],
   "metadata": {
    "collapsed": false,
    "ExecuteTime": {
     "end_time": "2024-01-03T20:15:01.290027Z",
     "start_time": "2024-01-03T20:15:01.285957Z"
    }
   },
   "id": "fb5117dc47f225a5",
   "execution_count": 107
  },
  {
   "cell_type": "code",
   "outputs": [
    {
     "name": "stdout",
     "output_type": "stream",
     "text": [
      "Device: mps\n"
     ]
    }
   ],
   "source": [
    "device = (\n",
    "    \"cuda\"\n",
    "    if torch.cuda.is_available()\n",
    "    else \"mps\"\n",
    "    if torch.backends.mps.is_available()\n",
    "    else \"cpu\"\n",
    ")\n",
    "print(f\"Device: {device}\")"
   ],
   "metadata": {
    "collapsed": false,
    "ExecuteTime": {
     "end_time": "2024-01-03T20:15:01.292093Z",
     "start_time": "2024-01-03T20:15:01.288911Z"
    }
   },
   "id": "22428fbe0fb0eaa8",
   "execution_count": 108
  },
  {
   "cell_type": "code",
   "outputs": [
    {
     "data": {
      "text/plain": "(Parameter containing:\n tensor([-0.2138], device='mps:0', requires_grad=True),\n Parameter containing:\n tensor([-1.3780], device='mps:0', requires_grad=True))"
     },
     "execution_count": 109,
     "metadata": {},
     "output_type": "execute_result"
    }
   ],
   "source": [
    "# Instantiate a model\n",
    "model_fn = LinearRegression().to(device)\n",
    "model_fn.weights , model_fn.bias"
   ],
   "metadata": {
    "collapsed": false,
    "ExecuteTime": {
     "end_time": "2024-01-03T20:15:01.724323Z",
     "start_time": "2024-01-03T20:15:01.293158Z"
    }
   },
   "id": "9c7302e009cded8",
   "execution_count": 109
  },
  {
   "cell_type": "code",
   "outputs": [],
   "source": [
    "# Training set\n",
    "X = torch.arange(start=0, end=1, step=0.02).unsqueeze(dim = 1)\n",
    "y = 0.7 * X + 0.3  \n"
   ],
   "metadata": {
    "collapsed": false,
    "ExecuteTime": {
     "end_time": "2024-01-03T20:15:01.727796Z",
     "start_time": "2024-01-03T20:15:01.722961Z"
    }
   },
   "id": "4189a19165e290d4",
   "execution_count": 110
  },
  {
   "cell_type": "code",
   "outputs": [],
   "source": [
    "# Testing set\n",
    "X_test = torch.arange(start=90, end=91, step=0.02).unsqueeze(dim=1)\n",
    "y_test = 0.7 * X_test + 0.3"
   ],
   "metadata": {
    "collapsed": false,
    "ExecuteTime": {
     "end_time": "2024-01-03T20:15:01.730719Z",
     "start_time": "2024-01-03T20:15:01.727199Z"
    }
   },
   "id": "9747a1e3dd86ce29",
   "execution_count": 111
  },
  {
   "cell_type": "code",
   "outputs": [
    {
     "data": {
      "text/plain": "tensor([[-1.3780],\n        [-1.3822],\n        [-1.3865],\n        [-1.3908],\n        [-1.3951],\n        [-1.3993],\n        [-1.4036],\n        [-1.4079],\n        [-1.4122],\n        [-1.4164],\n        [-1.4207],\n        [-1.4250],\n        [-1.4293],\n        [-1.4336],\n        [-1.4378],\n        [-1.4421],\n        [-1.4464],\n        [-1.4507],\n        [-1.4549],\n        [-1.4592],\n        [-1.4635],\n        [-1.4678],\n        [-1.4720],\n        [-1.4763],\n        [-1.4806],\n        [-1.4849],\n        [-1.4891],\n        [-1.4934],\n        [-1.4977],\n        [-1.5020],\n        [-1.5063],\n        [-1.5105],\n        [-1.5148],\n        [-1.5191],\n        [-1.5234],\n        [-1.5276],\n        [-1.5319],\n        [-1.5362],\n        [-1.5405],\n        [-1.5447],\n        [-1.5490],\n        [-1.5533],\n        [-1.5576],\n        [-1.5618],\n        [-1.5661],\n        [-1.5704],\n        [-1.5747],\n        [-1.5789],\n        [-1.5832],\n        [-1.5875]], device='mps:0')"
     },
     "execution_count": 112,
     "metadata": {},
     "output_type": "execute_result"
    }
   ],
   "source": [
    "with torch.inference_mode():\n",
    "    y_preds = model_fn(X.to(device))\n",
    "    \n",
    "y_preds"
   ],
   "metadata": {
    "collapsed": false,
    "ExecuteTime": {
     "end_time": "2024-01-03T20:15:01.765843Z",
     "start_time": "2024-01-03T20:15:01.730384Z"
    }
   },
   "id": "85dcf2b225d5a2b8",
   "execution_count": 112
  },
  {
   "cell_type": "code",
   "outputs": [
    {
     "data": {
      "text/plain": "<Figure size 1000x1000 with 1 Axes>",
      "image/png": "[encoded data removed]"
     },
     "metadata": {},
     "output_type": "display_data"
    }
   ],
   "source": [
    "def plot_predictions_and_targets(features, predictions, targets):\n",
    "    plt.figure(figsize=(10,10))\n",
    "    plt.scatter(features, predictions, label = \"predictions\")\n",
    "    plt.scatter(features, targets, label = \"actual values\")\n",
    "    plt.xlabel(\"X-axis\")\n",
    "    plt.ylabel(\"Y-axis\")\n",
    "    plt.legend()\n",
    "    plt.show()\n",
    "    \n",
    "plot_predictions_and_targets(X.to(\"cpu\"), y_preds.to(\"cpu\"), y.to(\"cpu\"))"
   ],
   "metadata": {
    "collapsed": false,
    "ExecuteTime": {
     "end_time": "2024-01-03T20:16:20.723634Z",
     "start_time": "2024-01-03T20:16:20.635842Z"
    }
   },
   "id": "1c0f5e4d78db6e96",
   "execution_count": 114
  },
  {
   "cell_type": "code",
   "outputs": [
    {
     "data": {
      "text/plain": "OrderedDict([('weights', tensor([-0.2138], device='mps:0')),\n             ('bias', tensor([-1.3780], device='mps:0'))])"
     },
     "execution_count": 115,
     "metadata": {},
     "output_type": "execute_result"
    }
   ],
   "source": [
    "model_fn.state_dict()"
   ],
   "metadata": {
    "collapsed": false,
    "ExecuteTime": {
     "end_time": "2024-01-03T20:16:26.244239Z",
     "start_time": "2024-01-03T20:16:26.216650Z"
    }
   },
   "id": "361b3b92d9e324bb",
   "execution_count": 115
  },
  {
   "cell_type": "code",
   "outputs": [],
   "source": [
    "loss_fn = nn.MSELoss()\n",
    "optimizer = torch.optim.SGD(params= model_fn.parameters(), lr=0.01, momentum=0.9)"
   ],
   "metadata": {
    "collapsed": false,
    "ExecuteTime": {
     "end_time": "2024-01-03T20:16:30.674060Z",
     "start_time": "2024-01-03T20:16:30.667953Z"
    }
   },
   "id": "fed025e4eeb8c932",
   "execution_count": 116
  },
  {
   "cell_type": "code",
   "outputs": [
    {
     "name": "stdout",
     "output_type": "stream",
     "text": [
      "Epoch: 0\n",
      "Test Loss: 6151.517578125\n",
      "\n",
      "\n",
      "Epoch: 10\n",
      "Test Loss: 0.8403819799423218\n",
      "\n",
      "\n",
      "Epoch: 20\n",
      "Test Loss: 607.1368408203125\n",
      "\n",
      "\n",
      "Epoch: 30\n",
      "Test Loss: 1.4832007884979248\n",
      "\n",
      "\n",
      "Epoch: 40\n",
      "Test Loss: 114.60163879394531\n",
      "\n",
      "\n",
      "Epoch: 50\n",
      "Test Loss: 2.9902713298797607\n",
      "\n",
      "\n",
      "Epoch: 60\n",
      "Test Loss: 4.5659499168396\n",
      "\n",
      "\n",
      "Epoch: 70\n",
      "Test Loss: 0.4122346043586731\n",
      "\n",
      "\n",
      "Epoch: 80\n",
      "Test Loss: 3.595345973968506\n",
      "\n",
      "\n",
      "Epoch: 90\n",
      "Test Loss: 0.6525962948799133\n",
      "\n",
      "\n",
      "Epoch: 100\n",
      "Test Loss: 0.037761934101581573\n",
      "\n",
      "Epoch: 110\n",
      "Test Loss: 0.18809367716312408\n",
      "\n",
      "\n",
      "Epoch: 120\n",
      "Test Loss: 0.30665427446365356\n",
      "\n",
      "\n",
      "Epoch: 130\n",
      "Test Loss: 0.14980559051036835\n",
      "\n",
      "\n",
      "Epoch: 140\n",
      "Test Loss: 0.07007303833961487\n",
      "\n",
      "\n",
      "Epoch: 150\n",
      "Test Loss: 0.06485318392515182\n",
      "\n",
      "\n",
      "Epoch: 160\n",
      "Test Loss: 0.058649659156799316\n",
      "\n",
      "\n",
      "Epoch: 170\n",
      "Test Loss: 0.03933809697628021\n",
      "\n",
      "\n",
      "Epoch: 180\n",
      "Test Loss: 0.025934381410479546\n",
      "\n",
      "\n",
      "Epoch: 190\n",
      "Test Loss: 0.019789330661296844\n",
      "\n",
      "\n",
      "Epoch: 200\n",
      "Test Loss: 0.015266351401805878\n",
      "\n",
      "\n",
      "Epoch: 210\n",
      "Test Loss: 0.011001636274158955\n",
      "\n",
      "\n",
      "Epoch: 220\n",
      "Test Loss: 0.007860766723752022\n",
      "\n",
      "\n",
      "Epoch: 230\n",
      "Test Loss: 0.005801401101052761\n",
      "\n",
      "Epoch: 240\n",
      "Test Loss: 0.004303060472011566\n",
      "\n",
      "\n",
      "Epoch: 250\n",
      "Test Loss: 0.0031434691045433283\n",
      "\n",
      "\n",
      "Epoch: 260\n",
      "Test Loss: 0.0022897080052644014\n",
      "\n",
      "\n",
      "Epoch: 270\n",
      "Test Loss: 0.0016796460840851068\n",
      "\n",
      "\n",
      "Epoch: 280\n",
      "Test Loss: 0.0012339905370026827\n",
      "\n",
      "\n",
      "Epoch: 290\n",
      "Test Loss: 0.0009040192235261202\n",
      "\n",
      "\n",
      "Epoch: 300\n",
      "Test Loss: 0.0006612929282709956\n",
      "\n",
      "\n",
      "Epoch: 310\n",
      "Test Loss: 0.0004849809920415282\n",
      "\n",
      "\n",
      "Epoch: 320\n",
      "Test Loss: 0.0003558650496415794\n",
      "\n",
      "\n",
      "Epoch: 330\n",
      "Test Loss: 0.000260839267866686\n",
      "\n",
      "\n",
      "Epoch: 340\n",
      "Test Loss: 0.00019127810082864016\n",
      "\n",
      "\n",
      "Epoch: 350\n",
      "Test Loss: 0.00014007640129420906\n",
      "\n",
      "\n",
      "Epoch: 360\n",
      "Test Loss: 0.00010246358579024673\n",
      "\n",
      "\n",
      "Epoch: 370\n",
      "Test Loss: 7.511486910516396e-05\n",
      "\n",
      "Epoch: 380\n",
      "Test Loss: 5.4967091273283586e-05\n",
      "\n",
      "\n",
      "Epoch: 390\n",
      "Test Loss: 4.0298968087881804e-05\n",
      "\n",
      "\n",
      "Epoch: 400\n",
      "Test Loss: 2.953983494080603e-05\n",
      "\n",
      "\n",
      "Epoch: 410\n",
      "Test Loss: 2.1669948182534426e-05\n",
      "\n",
      "\n",
      "Epoch: 420\n",
      "Test Loss: 1.5878451449680142e-05\n",
      "\n",
      "\n",
      "Epoch: 430\n",
      "Test Loss: 1.1673245353449602e-05\n",
      "\n",
      "\n",
      "Epoch: 440\n",
      "Test Loss: 8.499322575516999e-06\n",
      "\n",
      "\n",
      "Epoch: 450\n",
      "Test Loss: 6.242433755687671e-06\n",
      "\n",
      "\n",
      "Epoch: 460\n",
      "Test Loss: 4.5821307139704e-06\n",
      "\n",
      "\n",
      "Epoch: 470\n",
      "Test Loss: 3.3433047974540386e-06\n",
      "\n",
      "\n",
      "Epoch: 480\n",
      "Test Loss: 2.4283447146444814e-06\n",
      "\n",
      "\n",
      "Epoch: 490\n",
      "Test Loss: 1.7987607634495362e-06\n"
     ]
    }
   ],
   "source": [
    "epochs = 500\n",
    "\n",
    "for epoch in range(epochs):\n",
    "    \n",
    "    # Training session\n",
    "     model_fn.train()\n",
    "     y_pred = model_fn(X.to(device))\n",
    "     loss = loss_fn(y_pred.to(device), y.to(device))\n",
    "     optimizer.zero_grad() \n",
    "     loss.backward()\n",
    "     optimizer.step()\n",
    "\n",
    "     model_fn.eval()\n",
    "\n",
    "     with torch.inference_mode():\n",
    "            test_pred = model_fn(X_test.to(device))\n",
    "        \n",
    "            test_loss = loss_fn(test_pred.to(device), y_test.to(device)) # Test loss\n",
    "    \n",
    "     if epoch % 10 == 0: print(f\"Epoch: {epoch}\\nTest Loss: {test_loss:}\\n\\n\")\n"
   ],
   "metadata": {
    "collapsed": false,
    "ExecuteTime": {
     "end_time": "2024-01-03T20:17:28.391667Z",
     "start_time": "2024-01-03T20:17:27.487650Z"
    }
   },
   "id": "db6d4bde15bd56e0",
   "execution_count": 119
  },
  {
   "cell_type": "code",
   "outputs": [
    {
     "data": {
      "text/plain": "<Figure size 1000x1000 with 1 Axes>",
      "image/png": "[encoded data removed]"
     },
     "metadata": {},
     "output_type": "display_data"
    }
   ],
   "source": [
    "y_preds_train = model_fn(X.to(device)).cpu()\n",
    "plot_predictions_and_targets(X.detach().numpy(), y_preds_train.detach().numpy(), y.detach().numpy())"
   ],
   "metadata": {
    "collapsed": false,
    "ExecuteTime": {
     "end_time": "2024-01-03T20:21:38.681549Z",
     "start_time": "2024-01-03T20:21:38.584078Z"
    }
   },
   "id": "89bd2cbc960f107d",
   "execution_count": 133
  },
  {
   "cell_type": "code",
   "outputs": [],
   "source": [
    "# Saving model\n",
    "torch.save(model_fn.state_dict(), \"linear_regression_model.pth\")"
   ],
   "metadata": {
    "collapsed": false,
    "ExecuteTime": {
     "end_time": "2024-01-03T20:21:44.385514Z",
     "start_time": "2024-01-03T20:21:44.383803Z"
    }
   },
   "id": "2a5f41f2af06c19e",
   "execution_count": 134
  },
  {
   "cell_type": "code",
   "outputs": [
    {
     "data": {
      "text/plain": "tensor([[True],\n        [True],\n        [True],\n        [True],\n        [True],\n        [True],\n        [True],\n        [True],\n        [True],\n        [True],\n        [True],\n        [True],\n        [True],\n        [True],\n        [True],\n        [True],\n        [True],\n        [True],\n        [True],\n        [True],\n        [True],\n        [True],\n        [True],\n        [True],\n        [True],\n        [True],\n        [True],\n        [True],\n        [True],\n        [True],\n        [True],\n        [True],\n        [True],\n        [True],\n        [True],\n        [True],\n        [True],\n        [True],\n        [True],\n        [True],\n        [True],\n        [True],\n        [True],\n        [True],\n        [True],\n        [True],\n        [True],\n        [True],\n        [True],\n        [True]], device='mps:0')"
     },
     "execution_count": 138,
     "metadata": {},
     "output_type": "execute_result"
    }
   ],
   "source": [
    "model_new = LinearRegression().to(device)\n",
    "model_new.load_state_dict(torch.load(\"linear_regression_model.pth\"))\n",
    "model_new(X_test.to(device)) == model_fn(X_test.to(device))"
   ],
   "metadata": {
    "collapsed": false,
    "ExecuteTime": {
     "end_time": "2024-01-03T20:23:02.393900Z",
     "start_time": "2024-01-03T20:23:02.347472Z"
    }
   },
   "id": "2ec5924c343c3fcd",
   "execution_count": 138
  },
  {
   "cell_type": "markdown",
   "source": [
    "## Classification with Pytorch"
   ],
   "metadata": {
    "collapsed": false
   },
   "id": "89b8c4535ea7fac5"
  },
  {
   "cell_type": "code",
   "outputs": [],
   "source": [],
   "metadata": {
    "collapsed": false
   },
   "id": "c8b7737d1463ba6c"
  }
 ],
 "metadata": {
  "kernelspec": {
   "display_name": "Python 3",
   "language": "python",
   "name": "python3"
  },
  "language_info": {
   "codemirror_mode": {
    "name": "ipython",
    "version": 2
   },
   "file_extension": ".py",
   "mimetype": "text/x-python",
   "name": "python",
   "nbconvert_exporter": "python",
   "pygments_lexer": "ipython2",
   "version": "2.7.6"
  }
 },
 "nbformat": 4,
 "nbformat_minor": 5
}
